{
 "cells": [
  {
   "cell_type": "markdown",
   "metadata": {},
   "source": [
    "# Cleaning Monthly Budget Comparison and Appending into one Dataframe to Create Report\n",
    "Abridged version for clarity. Use XLWings to delete columns within Excel to speed up cleaning and appending reports"
   ]
  },
  {
   "cell_type": "code",
   "execution_count": null,
   "metadata": {},
   "outputs": [],
   "source": [
    "import pandas as pd\n",
    "import xlwings as xw\n",
    "from xlwings.constants import DeleteShiftDirection"
   ]
  },
  {
   "cell_type": "markdown",
   "metadata": {},
   "source": [
    "# CommunityA"
   ]
  },
  {
   "cell_type": "code",
   "execution_count": null,
   "metadata": {},
   "outputs": [],
   "source": [
    "#Pull Existing Excel sheet and name: DuplicatedResidents\n",
    "CommunityA = xw.Book('AM Financials/CommunityA.xlsx')"
   ]
  },
  {
   "cell_type": "code",
   "execution_count": null,
   "metadata": {},
   "outputs": [],
   "source": [
    "#Accessing Sheets (1st tab is 0)\n",
    "CommunityA_12_Mo_Actual_Budget = CommunityA.sheets[0]\n",
    "CommunityA_Balance_Sheet = CommunityA.sheets[1]\n",
    "CommunityA_Budget_Comparison = CommunityA.sheets[2]\n",
    "CommunityA_12_Mo_Statement = CommunityA.sheets[3]\n",
    "CommunityA = CommunityA.sheets[4]"
   ]
  },
  {
   "cell_type": "code",
   "execution_count": null,
   "metadata": {},
   "outputs": [],
   "source": [
    "#Print Name of 1st Tab\n",
    "#print(CommunityA_Balance_Sheet.name)"
   ]
  },
  {
   "cell_type": "markdown",
   "metadata": {},
   "source": [
    "### Delete top rows from Tab"
   ]
  },
  {
   "cell_type": "code",
   "execution_count": null,
   "metadata": {},
   "outputs": [],
   "source": [
    "# Delete rows 1-4/5\n",
    "CommunityA_Balance_Sheet.range('1:5').api.Delete(DeleteShiftDirection.xlShiftUp) \n",
    "CommunityA_Budget_Comparison.range('1:4').api.Delete(DeleteShiftDirection.xlShiftUp) \n",
    "CommunityA_GL.range('1:5').api.Delete(DeleteShiftDirection.xlShiftUp) \n",
    "CommunityA_12_Mo_Statement.range('1:4').api.Delete(DeleteShiftDirection.xlShiftUp) \n",
    "CommunityA_12_Mo_Actual_Budget.range('1:5').api.Delete(DeleteShiftDirection.xlShiftUp) "
   ]
  },
  {
   "cell_type": "code",
   "execution_count": null,
   "metadata": {},
   "outputs": [],
   "source": [
    "#Delete Code Columns\n",
    "CommunityA_Balance_Sheet.range('A:A').api.Delete()\n",
    "CommunityA_Budget_Comparison.range('A:A').api.Delete()\n",
    "CommunityA_GL.range('A:A').api.Delete()\n",
    "CommunityA_12_Mo_Statement.range('A:A').api.Delete()\n",
    "CommunityA_12_Mo_Actual_Budget.range('A:A').api.Delete()"
   ]
  },
  {
   "cell_type": "code",
   "execution_count": null,
   "metadata": {},
   "outputs": [],
   "source": [
    "#Adding value into Column headers\n",
    "#Balance Sheet\n",
    "CommunityA_Balance_Sheet.range('A1').value = 'Expense'\n",
    "\n",
    "#Budget Comparison\n",
    "CommunityA_Budget_Comparison.range('A1').value = 'Expense'\n",
    "\n",
    "#12 Month Actual/Budget\n",
    "CommunityA_12_Mo_Actual_Budget.range('A1').value = 'Code'\n",
    "\n",
    "#12 Month Statement\n",
    "CommunityA_12_Mo_Statement.range('A1').value = 'Code'\n",
    "CommunityA_12_Mo_Statement.range('A1').value = 'Expense'"
   ]
  },
  {
   "cell_type": "markdown",
   "metadata": {},
   "source": [
    "### Convert into Pandas DataFrame"
   ]
  },
  {
   "cell_type": "code",
   "execution_count": null,
   "metadata": {},
   "outputs": [],
   "source": [
    "#Convert to Pandas DataFrame\n",
    "\n",
    "#Inputing options data type\n",
    "CommunityA_Balance_df = CommunityA_Balance_Sheet.range('A1').options(pd.DataFrame, index=False,expand='table', header=1).value\n",
    "CommunityA_Budget_Comparison_df = CommunityA_Budget_Comparison.range('A1').options(pd.DataFrame, index=False,expand='table', header=1).value\n",
    "CommunityA_12_Mo_Actual_Budget_df = CommunityA_12_Mo_Actual_Budget.range('A1').options(pd.DataFrame, index=False,expand='table', header=2).value\n",
    "CommunityA_12_Mo_Statement_df = CommunityA_12_Mo_Statement.range('A1').options(pd.DataFrame, index=False,expand='table', header=1).value\n",
    "CommunityA_GL_df = CommunityA_GL.range('A1').options(pd.DataFrame, index=False,expand='table', header=2).value"
   ]
  },
  {
   "cell_type": "code",
   "execution_count": null,
   "metadata": {},
   "outputs": [],
   "source": [
    "CommunityA_Budget_Comparison_df.head(20)"
   ]
  },
  {
   "cell_type": "code",
   "execution_count": null,
   "metadata": {},
   "outputs": [],
   "source": [
    "CommunityA_Budget_Comparison_df.columns"
   ]
  },
  {
   "cell_type": "code",
   "execution_count": null,
   "metadata": {},
   "outputs": [],
   "source": [
    "# Add COMMUNITY NAME\n",
    "CommunityA_Balance_df['Community'] = 'CommunityA'\n",
    "CommunityA_Budget_Comparison_df['Community'] = 'CommunityA'\n",
    "CommunityA_12_Mo_Actual_Budget_df['Community'] = 'CommunityA'\n",
    "CommunityAe_GL_df['Community'] = '1CommunityA'\n",
    "CommunityA_12_Mo_Statement_df['Community'] = 'CommunityA'"
   ]
  },
  {
   "cell_type": "code",
   "execution_count": null,
   "metadata": {},
   "outputs": [],
   "source": [
    "#Rename columns in 12 Mon Statement\n",
    "CommunityA_Balance_df['Balance Current Period'] = CommunityA_Balance_df['Current Period']\n",
    "CommunityA_Balance_df['Beginning Balance'] = CommunityA_Balance_df['Balance']\n",
    "CommunityA_Balance_df['Net Change'] = CommunityA_Balance_df['Change']\n",
    "#Drop other columns\n",
    "CommunityA_Balance_df.drop(['Change','Balance','Current Period'],axis=1, inplace = True)"
   ]
  },
  {
   "cell_type": "code",
   "execution_count": null,
   "metadata": {},
   "outputs": [],
   "source": [
    "CommunityA_Balance_df.columns"
   ]
  },
  {
   "cell_type": "code",
   "execution_count": null,
   "metadata": {},
   "outputs": [],
   "source": [
    "CommunityA_12_Mo_Actual_Budget_df.tail(20)"
   ]
  },
  {
   "cell_type": "markdown",
   "metadata": {},
   "source": [
    "# Community B"
   ]
  },
  {
   "cell_type": "code",
   "execution_count": null,
   "metadata": {},
   "outputs": [],
   "source": [
    "#Pull Existing Excel sheet and name: DuplicatedResidents\n",
    "CommunityB = xw.Book('AM Financials/CommunityB.xlsx')"
   ]
  },
  {
   "cell_type": "code",
   "execution_count": null,
   "metadata": {},
   "outputs": [],
   "source": [
    "#Accessing Sheets (1st tab is 0)\n",
    "CommunityB_12_Mo_Actual_Budget = CommunityB.sheets[0]\n",
    "CommunityB_Balance_Sheet = CommunityB.sheets[1]\n",
    "CommunityB_Budget_Comparison = CommunityB.sheets[2]\n",
    "CommunityB_12_Mo_Statement = CommunityB.sheets[3]\n",
    "CommunityB_GL = CommunityB.sheets[4]"
   ]
  },
  {
   "cell_type": "code",
   "execution_count": null,
   "metadata": {},
   "outputs": [],
   "source": [
    "#Print Name of 1st Tab\n",
    "print(CommunityB_12_Mo_Actual_Budget.name)"
   ]
  },
  {
   "cell_type": "markdown",
   "metadata": {},
   "source": [
    "### Delete top rows from Tab"
   ]
  },
  {
   "cell_type": "code",
   "execution_count": null,
   "metadata": {},
   "outputs": [],
   "source": [
    "# Delete rows 1-4/5\n",
    "CommunityB_Balance_Sheet.range('1:5').api.Delete(DeleteShiftDirection.xlShiftUp) \n",
    "CommunityB_Budget_Comparison.range('1:4').api.Delete(DeleteShiftDirection.xlShiftUp) \n",
    "CommunityB_GL.range('1:5').api.Delete(DeleteShiftDirection.xlShiftUp) \n",
    "CommunityB_12_Mo_Statement.range('1:4').api.Delete(DeleteShiftDirection.xlShiftUp) \n",
    "CommunityB_12_Mo_Actual_Budget.range('1:5').api.Delete(DeleteShiftDirection.xlShiftUp) "
   ]
  },
  {
   "cell_type": "code",
   "execution_count": null,
   "metadata": {},
   "outputs": [],
   "source": [
    "#Delete Code Columns\n",
    "CommunityB_Balance_Sheet.range('A:A').api.Delete()\n",
    "CommunityB_Budget_Comparison.range('A:A').api.Delete()\n",
    "CommunityB_GL.range('A:A').api.Delete()\n",
    "CommunityB_12_Mo_Statement.range('A:A').api.Delete()\n",
    "CommunityB_12_Mo_Actual_Budget.range('A:A').api.Delete()"
   ]
  },
  {
   "cell_type": "code",
   "execution_count": null,
   "metadata": {},
   "outputs": [],
   "source": [
    "#Adding value into Column headers\n",
    "#Balance Sheet\n",
    "CommunityB_Balance_Sheet.range('A1').value = 'Expense'\n",
    "\n",
    "#Budget Comparison\n",
    "CommunityB_Budget_Comparison.range('A1').value = 'Expense'\n",
    "\n",
    "#12 Month Actual/Budget\n",
    "CommunityB_12_Mo_Actual_Budget.range('A1').value = 'Code'\n",
    "CommunityB_12_Mo_Actual_Budget.range('A2').value = 'Expense Code'\n",
    "\n",
    "#12 Month Statement\n",
    "CommunityB_12_Mo_Statement.range('A1').value = 'Expense'"
   ]
  },
  {
   "cell_type": "markdown",
   "metadata": {},
   "source": [
    "### Convert into Pandas DataFrame"
   ]
  },
  {
   "cell_type": "code",
   "execution_count": null,
   "metadata": {},
   "outputs": [],
   "source": [
    "#Convert to Pandas DataFrame\n",
    "\n",
    "#Inputing options data type\n",
    "CommunityB_Balance_df = CommunityB_Balance_Sheet.range('A1').options(pd.DataFrame, index=False,expand='table', header=1).value\n",
    "CommunityB_Budget_Comparison_df = CommunityB_Budget_Comparison.range('A1').options(pd.DataFrame, index=False,expand='table', header=1).value\n",
    "CommunityB_12_Mo_Actual_Budget_df = CommunityB_12_Mo_Actual_Budget.range('A1').options(pd.DataFrame, index=False,expand='table', header=2).value\n",
    "CommunityB_12_Mo_Statement_df = CommunityB_12_Mo_Statement.range('A1').options(pd.DataFrame, index=False,expand='table', header=1).value\n",
    "CommunityB_GL_df = CommunityB_GL.range('A1').options(pd.DataFrame, index=False,expand='table', header=2).value"
   ]
  },
  {
   "cell_type": "code",
   "execution_count": null,
   "metadata": {},
   "outputs": [],
   "source": [
    "CommunityB_Balance_df.head()"
   ]
  },
  {
   "cell_type": "code",
   "execution_count": null,
   "metadata": {},
   "outputs": [],
   "source": [
    "# Add COMMUNITY NAME\n",
    "CommunityB_Balance_df['Community'] = 'CommunityB'\n",
    "CommunityB_Budget_Comparison_df['Community'] = 'CommunityB'\n",
    "CommunityB_12_Mo_Actual_Budget_df['Community'] = 'CommunityB'\n",
    "CommunityB_GL_df['Community'] = 'CommunityB'\n",
    "CommunityB_12_Mo_Statement_df['Community'] = 'CommunityB'"
   ]
  },
  {
   "cell_type": "code",
   "execution_count": null,
   "metadata": {},
   "outputs": [],
   "source": [
    "#Rename columns in 12 Mon Balance Statement\n",
    "CommunityB_Balance_df['Balance Current Period'] = CommunityB_Balance_df['Current Period']\n",
    "CommunityB_Balance_df['Beginning Balance'] = CommunityB_Balance_df['Balance']\n",
    "CommunityB_Balance_df['Net Change'] = CommunityB_Balance_df['Change']\n",
    "#Drop other columns\n",
    "CommunityB_Balance_df.drop(['Change','Balance','Current Period'],axis=1, inplace = True)"
   ]
  },
  {
   "cell_type": "code",
   "execution_count": null,
   "metadata": {},
   "outputs": [],
   "source": [
    "CommunityB_Balance_df.columns"
   ]
  },
  {
   "cell_type": "markdown",
   "metadata": {},
   "source": [
    "# Append all Budget Comparison Dataframes into One DataFrame"
   ]
  },
  {
   "cell_type": "code",
   "execution_count": null,
   "metadata": {},
   "outputs": [],
   "source": [
    "Budget_Comparison = CommunityA_Budget_Comparison_df.append([CommunityB_Budget_Comparison_df])\n",
    "Budget_Comparison.shape"
   ]
  },
  {
   "cell_type": "code",
   "execution_count": null,
   "metadata": {},
   "outputs": [],
   "source": [
    "Budget_Comparison.head()"
   ]
  },
  {
   "cell_type": "code",
   "execution_count": null,
   "metadata": {},
   "outputs": [],
   "source": [
    "Budget_Comparison.tail()"
   ]
  },
  {
   "cell_type": "code",
   "execution_count": null,
   "metadata": {},
   "outputs": [],
   "source": [
    "# Add Date Column for Current Month\n",
    "Budget_Comparison['Date'] = '10/31/2020'"
   ]
  },
  {
   "cell_type": "code",
   "execution_count": null,
   "metadata": {},
   "outputs": [],
   "source": [
    "Budget_Comparison.fillna(0).head()"
   ]
  },
  {
   "cell_type": "code",
   "execution_count": null,
   "metadata": {},
   "outputs": [],
   "source": [
    "Budget_Comparison.tail()"
   ]
  },
  {
   "cell_type": "markdown",
   "metadata": {},
   "source": [
    "## Export Budget Comparison"
   ]
  },
  {
   "cell_type": "code",
   "execution_count": null,
   "metadata": {},
   "outputs": [],
   "source": [
    "#Rename CSV for Current Month\n",
    "#Budget_Comparison.to_csv('Budget_Comparison_10_2020.csv')"
   ]
  },
  {
   "cell_type": "markdown",
   "metadata": {},
   "source": [
    "# Append all Balance Sheet Dataframes into One DataFrame"
   ]
  },
  {
   "cell_type": "code",
   "execution_count": null,
   "metadata": {},
   "outputs": [],
   "source": [
    "Balance_Sheet = CommunityA_Balance_df.append([CommunityB_Balance_df])\n",
    "Balance_Sheet.shape"
   ]
  },
  {
   "cell_type": "code",
   "execution_count": null,
   "metadata": {},
   "outputs": [],
   "source": [
    "Balance_Sheet.head()"
   ]
  },
  {
   "cell_type": "code",
   "execution_count": null,
   "metadata": {},
   "outputs": [],
   "source": [
    "Balance_Sheet.tail()"
   ]
  },
  {
   "cell_type": "code",
   "execution_count": null,
   "metadata": {},
   "outputs": [],
   "source": [
    "# Add Date Column for Current Month\n",
    "Balance_Sheet['Date'] = '10/31/2020'"
   ]
  },
  {
   "cell_type": "code",
   "execution_count": null,
   "metadata": {},
   "outputs": [],
   "source": [
    "Balance_Sheet.fillna(0).head()"
   ]
  },
  {
   "cell_type": "code",
   "execution_count": null,
   "metadata": {},
   "outputs": [],
   "source": [
    "Balance_Sheet.tail()"
   ]
  },
  {
   "cell_type": "markdown",
   "metadata": {},
   "source": [
    "## Export Balance Sheet"
   ]
  },
  {
   "cell_type": "code",
   "execution_count": null,
   "metadata": {},
   "outputs": [],
   "source": [
    "#Rename CSV for Current Month\n",
    "#Balance_Sheet.to_csv('Balance_Sheet_10_2020.csv')"
   ]
  }
 ],
 "metadata": {
  "kernelspec": {
   "display_name": "Python 3",
   "language": "python",
   "name": "python3"
  },
  "language_info": {
   "codemirror_mode": {
    "name": "ipython",
    "version": 3
   },
   "file_extension": ".py",
   "mimetype": "text/x-python",
   "name": "python",
   "nbconvert_exporter": "python",
   "pygments_lexer": "ipython3",
   "version": "3.7.3"
  }
 },
 "nbformat": 4,
 "nbformat_minor": 2
}
