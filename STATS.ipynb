{
 "cells": [
  {
   "cell_type": "markdown",
   "metadata": {},
   "source": [
    "# Cleaning up Budget Comparison to restructure for STATS report"
   ]
  },
  {
   "cell_type": "code",
   "execution_count": 1,
   "metadata": {},
   "outputs": [],
   "source": [
    "import pandas as pd\n",
    "import numpy as np\n",
    "import matplotlib.pyplot as plt\n",
    "from datetime import datetime\n",
    "import re\n",
    "from numpy import NaN"
   ]
  },
  {
   "cell_type": "code",
   "execution_count": 2,
   "metadata": {},
   "outputs": [
    {
     "data": {
      "text/plain": [
       "(5987, 4)"
      ]
     },
     "execution_count": 2,
     "metadata": {},
     "output_type": "execute_result"
    }
   ],
   "source": [
    "#Budget Comparison\n",
    "BC = pd.read_csv(\"STATS/Budget Comparison 10-2020.csv\",usecols = ['Expense', ' YTD Actual', 'Community', 'Date'])\n",
    "BC.shape"
   ]
  },
  {
   "cell_type": "code",
   "execution_count": 3,
   "metadata": {},
   "outputs": [
    {
     "data": {
      "text/plain": [
       "Index(['Expense', ' YTD Actual', 'Community', 'Date'], dtype='object')"
      ]
     },
     "execution_count": 3,
     "metadata": {},
     "output_type": "execute_result"
    }
   ],
   "source": [
    "BC.columns"
   ]
  },
  {
   "cell_type": "code",
   "execution_count": 4,
   "metadata": {},
   "outputs": [],
   "source": [
    "#BC.head()"
   ]
  },
  {
   "cell_type": "code",
   "execution_count": 5,
   "metadata": {},
   "outputs": [],
   "source": [
    "#Double check date column is correct before deleting column\n",
    "BC.drop(['Date'],axis=1, inplace = True)"
   ]
  },
  {
   "cell_type": "code",
   "execution_count": 6,
   "metadata": {},
   "outputs": [],
   "source": [
    "#BC.head()"
   ]
  },
  {
   "cell_type": "code",
   "execution_count": 7,
   "metadata": {},
   "outputs": [
    {
     "data": {
      "text/plain": [
       "(272, 3)"
      ]
     },
     "execution_count": 7,
     "metadata": {},
     "output_type": "execute_result"
    }
   ],
   "source": [
    "#Find fields for Stats report\n",
    "BC_Oct = BC.loc[(BC['Expense'] == 'BASE SCHEDULED RENT')\n",
    "               |(BC['Expense'] == '   TOTAL RENTAL INCOME')\n",
    "               |(BC['Expense'] == '   TOTAL MISCELLANEOUS INCOME')\n",
    "               |(BC['Expense'] == '   TOTAL OPERATING EXPENSES INCLUDING TAX/INS')\n",
    "               |(BC['Expense'] == '   NOI-PRIOR TO DEBT SERVICE')\n",
    "               |(BC['Expense'] == '   TOTAL DEBT SERVICE')\n",
    "               |(BC['Expense'] == 'Escrow/Imp-Repl Res')\n",
    "               |(BC['Expense'] == '   TOTAL INCOME')]\n",
    "BC_Oct.shape"
   ]
  },
  {
   "cell_type": "code",
   "execution_count": 8,
   "metadata": {},
   "outputs": [],
   "source": [
    "#BC_Oct['Expense'].value_counts()"
   ]
  },
  {
   "cell_type": "code",
   "execution_count": 9,
   "metadata": {},
   "outputs": [
    {
     "data": {
      "text/plain": [
       "(272, 3)"
      ]
     },
     "execution_count": 9,
     "metadata": {},
     "output_type": "execute_result"
    }
   ],
   "source": [
    "BudgetComparison = BC_Oct.drop_duplicates(['Expense','Community'], keep='first')\n",
    "BudgetComparison.shape"
   ]
  },
  {
   "cell_type": "code",
   "execution_count": 10,
   "metadata": {},
   "outputs": [
    {
     "data": {
      "text/plain": [
       "(36, 9)"
      ]
     },
     "execution_count": 10,
     "metadata": {},
     "output_type": "execute_result"
    }
   ],
   "source": [
    "#Pivot Dataframe\n",
    "Stats = BudgetComparison.pivot(index='Community', columns='Expense', values=' YTD Actual').reset_index()\n",
    "Stats.shape"
   ]
  },
  {
   "cell_type": "code",
   "execution_count": 11,
   "metadata": {},
   "outputs": [],
   "source": [
    "#Stats.head()"
   ]
  },
  {
   "cell_type": "code",
   "execution_count": 12,
   "metadata": {},
   "outputs": [],
   "source": [
    "#Add date column back to dataframe\n",
    "Stats['Date'] = '10/31/2020'"
   ]
  },
  {
   "cell_type": "code",
   "execution_count": 13,
   "metadata": {},
   "outputs": [],
   "source": [
    "#Rename columns to remove spacing\n",
    "Stats['TOTAL RENTAL INCOME'] = Stats['   TOTAL RENTAL INCOME']\n",
    "Stats['TOTAL INCOME'] = Stats['   TOTAL INCOME']\n",
    "Stats['TOTAL MISCELLANEOUS INCOME'] = Stats['   TOTAL MISCELLANEOUS INCOME']\n",
    "Stats['TOTAL OPERATING EXPENSES INCLUDING TAX/INS'] = Stats['   TOTAL OPERATING EXPENSES INCLUDING TAX/INS']\n",
    "Stats['NOI-PRIOR TO DEBT SERVICE'] = Stats['   NOI-PRIOR TO DEBT SERVICE']\n",
    "Stats['TOTAL DEBT SERVICE'] = Stats['   TOTAL DEBT SERVICE']\n",
    "Stats['TOTAL INCOME'] = Stats['   TOTAL INCOME']"
   ]
  },
  {
   "cell_type": "code",
   "execution_count": 14,
   "metadata": {},
   "outputs": [],
   "source": [
    "#Stats.fillna(0).head()"
   ]
  },
  {
   "cell_type": "markdown",
   "metadata": {},
   "source": [
    "# Automating Mathematical Equations"
   ]
  },
  {
   "cell_type": "code",
   "execution_count": 15,
   "metadata": {},
   "outputs": [],
   "source": [
    "#Creating YTD Percentage Column\n",
    "Stats['YTD Percentage'] = Stats['TOTAL RENTAL INCOME'] / Stats['BASE SCHEDULED RENT']"
   ]
  },
  {
   "cell_type": "code",
   "execution_count": 16,
   "metadata": {},
   "outputs": [],
   "source": [
    "#Creating YTD Number Column\n",
    "Stats['YTD'] = Stats['NOI-PRIOR TO DEBT SERVICE'] / Stats['TOTAL DEBT SERVICE']"
   ]
  },
  {
   "cell_type": "code",
   "execution_count": 17,
   "metadata": {},
   "outputs": [],
   "source": [
    "#Creating DSCR w/ Reserve Deposits Column\n",
    "Stats['DSCR W/ Reserve Deposits'] = (Stats['NOI-PRIOR TO DEBT SERVICE'] - Stats['Escrow/Imp-Repl Res']) / Stats['TOTAL DEBT SERVICE']"
   ]
  },
  {
   "cell_type": "code",
   "execution_count": 18,
   "metadata": {},
   "outputs": [],
   "source": [
    "#Cleaning Communities\n",
    "Stats['Community'] = Stats['Community'].str.replace('Esperanza Gardense', 'Esperanza Gardens')\n",
    "Stats['Community'] = Stats['Community'].str.replace('Parks at Figs', 'Parks at Fig Gardens')"
   ]
  },
  {
   "cell_type": "code",
   "execution_count": 19,
   "metadata": {},
   "outputs": [
    {
     "data": {
      "text/plain": [
       "(36, 13)"
      ]
     },
     "execution_count": 19,
     "metadata": {},
     "output_type": "execute_result"
    }
   ],
   "source": [
    "#Selecting columns from Grove_Residents\n",
    "col_list = ['Community', 'Date', 'BASE SCHEDULED RENT','YTD Percentage', 'TOTAL RENTAL INCOME', 'TOTAL MISCELLANEOUS INCOME','TOTAL INCOME',\n",
    "            'TOTAL OPERATING EXPENSES INCLUDING TAX/INS',\n",
    "            'NOI-PRIOR TO DEBT SERVICE', 'TOTAL DEBT SERVICE', 'Escrow/Imp-Repl Res', 'YTD', 'DSCR W/ Reserve Deposits']\n",
    "Stats = Stats[col_list]\n",
    "Stats.shape"
   ]
  },
  {
   "cell_type": "markdown",
   "metadata": {},
   "source": [
    "# Export"
   ]
  },
  {
   "cell_type": "code",
   "execution_count": null,
   "metadata": {},
   "outputs": [],
   "source": [
    "# Export Monthly Stats Report\n",
    "#Stats.to_csv('Stats_2020-10.csv')"
   ]
  }
 ],
 "metadata": {
  "kernelspec": {
   "display_name": "Python 3",
   "language": "python",
   "name": "python3"
  },
  "language_info": {
   "codemirror_mode": {
    "name": "ipython",
    "version": 3
   },
   "file_extension": ".py",
   "mimetype": "text/x-python",
   "name": "python",
   "nbconvert_exporter": "python",
   "pygments_lexer": "ipython3",
   "version": "3.7.3"
  }
 },
 "nbformat": 4,
 "nbformat_minor": 2
}
