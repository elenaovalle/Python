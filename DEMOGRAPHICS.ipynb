{
 "cells": [
  {
   "cell_type": "markdown",
   "metadata": {},
   "source": [
    "# Demographics\n",
    "Merge multiple reports to combine resident information to update database"
   ]
  },
  {
   "cell_type": "code",
   "execution_count": null,
   "metadata": {},
   "outputs": [],
   "source": [
    "import pandas as pd"
   ]
  },
  {
   "cell_type": "markdown",
   "metadata": {},
   "source": [
    "# 1. Importing All Active Residents"
   ]
  },
  {
   "cell_type": "code",
   "execution_count": null,
   "metadata": {},
   "outputs": [],
   "source": [
    "# Importing Active Residents\n",
    "ActiveResidents = pd.read_excel(\"All_Resident_Demographics/allactiveresidents.xlsx\")\n",
    "ActiveResidents.shape"
   ]
  },
  {
   "cell_type": "code",
   "execution_count": null,
   "metadata": {},
   "outputs": [],
   "source": [
    "#ActiveResidents.head()"
   ]
  },
  {
   "cell_type": "code",
   "execution_count": null,
   "metadata": {},
   "outputs": [],
   "source": [
    "ActiveResidents['In All Active'] = 'In All Active'"
   ]
  },
  {
   "cell_type": "code",
   "execution_count": null,
   "metadata": {},
   "outputs": [],
   "source": [
    "#Capitalizing Names\n",
    "ActiveResidents['Household Member Name'] = ActiveResidents['Household Member Name'].str.upper() "
   ]
  },
  {
   "cell_type": "code",
   "execution_count": null,
   "metadata": {},
   "outputs": [],
   "source": [
    "#Drop SSN Column if Present\n",
    "ActiveResidents.drop('SSN',axis=1, inplace = True)\n",
    "ActiveResidents.shape"
   ]
  },
  {
   "cell_type": "code",
   "execution_count": null,
   "metadata": {},
   "outputs": [],
   "source": [
    "#Locating Duplicate Residents\n",
    "DupResidents = ActiveResidents[ActiveResidents.duplicated(subset=['Community','Household Member Name','Apt#','Relation', 'DOB'],keep=False)]\n",
    "DupResidents.shape"
   ]
  },
  {
   "cell_type": "code",
   "execution_count": null,
   "metadata": {},
   "outputs": [],
   "source": [
    "#print(DupResidents)"
   ]
  },
  {
   "cell_type": "code",
   "execution_count": null,
   "metadata": {},
   "outputs": [],
   "source": [
    "#Checking Values\n",
    "ActiveResidents['Community'].value_counts()"
   ]
  },
  {
   "cell_type": "markdown",
   "metadata": {},
   "source": [
    "# 2. Importing Master List"
   ]
  },
  {
   "cell_type": "code",
   "execution_count": null,
   "metadata": {},
   "outputs": [],
   "source": [
    "#Importing Master List\n",
    "MasterList = pd.read_excel(\"Masterlist 11.13.2020.xlsx\")\n",
    "MasterList.shape"
   ]
  },
  {
   "cell_type": "code",
   "execution_count": null,
   "metadata": {},
   "outputs": [],
   "source": [
    "MasterList['In MasterList'] = 'In MasterList'"
   ]
  },
  {
   "cell_type": "code",
   "execution_count": null,
   "metadata": {},
   "outputs": [],
   "source": [
    "#Capitalizing Names\n",
    "MasterList['Residents/Non-Residents Name'] = MasterList['Residents/Non-Residents Name'].str.upper() "
   ]
  },
  {
   "cell_type": "code",
   "execution_count": null,
   "metadata": {},
   "outputs": [],
   "source": [
    "#MasterList.columns"
   ]
  },
  {
   "cell_type": "markdown",
   "metadata": {},
   "source": [
    "# 3. Merge All Active and Master List"
   ]
  },
  {
   "cell_type": "code",
   "execution_count": null,
   "metadata": {},
   "outputs": [],
   "source": [
    "#Find matches on Community, Name and DOB\n",
    "MovedOutResidents = pd.merge(ActiveResidents, MasterList, \n",
    "                                left_on= ('Community','Household Member Name','DOB'), \n",
    "                            right_on = ('Community','Residents/Non-Residents Name','DOB'), \n",
    "                            how='right', suffixes=['_AllActive', '_ML'])\n",
    "MovedOutResidents.shape"
   ]
  },
  {
   "cell_type": "code",
   "execution_count": null,
   "metadata": {},
   "outputs": [],
   "source": [
    "#Find matches on Community, Name and DOB: MovedIn\n",
    "MovedIn = pd.merge(ActiveResidents, MasterList, \n",
    "                                left_on= ('Community','Household Member Name', 'DOB','Relation'), \n",
    "                            right_on = ('Community','Residents/Non-Residents Name', 'DOB', 'Relation_Master'), \n",
    "                            how='left', suffixes=['_AllActive', '_ML'])\n",
    "MovedIn.shape"
   ]
  },
  {
   "cell_type": "code",
   "execution_count": null,
   "metadata": {},
   "outputs": [],
   "source": [
    "#Locating Duplicate values\n",
    "#DupMovedIn = MovedIn[MovedIn.duplicated(subset=['Community','Household Member Name', 'DOB','Relation'],keep=False)]\n",
    "#DupMovedIn.shape"
   ]
  },
  {
   "cell_type": "code",
   "execution_count": null,
   "metadata": {},
   "outputs": [],
   "source": [
    "#DupMovedIn.head()"
   ]
  },
  {
   "cell_type": "markdown",
   "metadata": {},
   "source": [
    "# 4. Export Moved In and Moved Out Residents to Concatenate in Excel"
   ]
  },
  {
   "cell_type": "code",
   "execution_count": null,
   "metadata": {},
   "outputs": [],
   "source": [
    "#MovedIn.to_csv('MovedIn_11.13.2020.csv')"
   ]
  },
  {
   "cell_type": "code",
   "execution_count": null,
   "metadata": {},
   "outputs": [],
   "source": [
    "#MovedOutResidents.to_csv('MovedOutResidents_11.13.2020.csv')"
   ]
  },
  {
   "cell_type": "markdown",
   "metadata": {},
   "source": [
    "# 5. Import Resident Demographics Report: Demographics"
   ]
  },
  {
   "cell_type": "code",
   "execution_count": null,
   "metadata": {},
   "outputs": [],
   "source": [
    "# Importing Demographics\n",
    "Demographics = pd.read_excel(\"householddemographics.xlsx\")\n",
    "Demographics.shape"
   ]
  },
  {
   "cell_type": "markdown",
   "metadata": {},
   "source": [
    "# 6. Fixing Race Columns\n",
    "Replace \"X\" with race using a dictionary then collapsing multiple columns into one column"
   ]
  },
  {
   "cell_type": "code",
   "execution_count": null,
   "metadata": {},
   "outputs": [],
   "source": [
    "#Mapping numbers \n",
    "#Replacing x values to true/false for analysis\n",
    "\n",
    "# Create the dictionary: true_false\n",
    "Hawaiian_Pacific = { 'X':'Hawaiian/ Pacific Islander'}\n",
    "Hispanic_Latino = { 'X':'Hispanic'}\n",
    "Am_Indian_Alaskan = { 'X':'Am Indian Alaskan'}\n",
    "Asian = { 'X':'Asian'}\n",
    "Black_African = { 'X':'Black African'}\n",
    "White = { 'X':'White'}\n",
    "None_0 = { 'X':'None'}\n",
    "Other = { 'X':'Other'}\n",
    "Multi_Race = { 'X':'Multi Race'}\n",
    "\n",
    "# Map columns to the new columns with true_false\n",
    "Demographics['Hawaiian Pacific'] = Demographics['Hawaiian Pacific'].map(Hawaiian_Pacific)\n",
    "Demographics['Hispanic Latino'] = Demographics['Hispanic Latino'].map(Hispanic_Latino)\n",
    "Demographics['AmIndian Alaskan'] = Demographics['AmIndian Alaskan'].map(Am_Indian_Alaskan)\n",
    "Demographics['Asian'] = Demographics['Asian'].map(Asian)\n",
    "Demographics['Black African'] = Demographics['Black African'].map(Black_African)\n",
    "Demographics['White'] = Demographics['White'].map(White)\n",
    "Demographics['None'] = Demographics['None'].map(None_0)\n",
    "Demographics['Other'] = Demographics['Other'].map(Other)\n",
    "Demographics['Multi Race'] = Demographics['Multi Race'].map(Multi_Race)"
   ]
  },
  {
   "cell_type": "code",
   "execution_count": null,
   "metadata": {},
   "outputs": [],
   "source": [
    "Demographics.columns"
   ]
  },
  {
   "cell_type": "code",
   "execution_count": null,
   "metadata": {},
   "outputs": [],
   "source": [
    "#Collapsing Race/Ethnicity columns into one column: 'Race_Ethnicity'\n",
    "source_col_loc = Demographics.columns.get_loc('Hispanic Latino') # column position starts from 0\n",
    "\n",
    "Demographics['Race'] = Demographics.iloc[:,source_col_loc+1:source_col_loc+9].apply(lambda x: \",\".join(x.dropna()), axis=1)\n",
    "Demographics.shape"
   ]
  },
  {
   "cell_type": "code",
   "execution_count": null,
   "metadata": {},
   "outputs": [],
   "source": [
    "Demographics['Race'].value_counts()"
   ]
  },
  {
   "cell_type": "markdown",
   "metadata": {},
   "source": [
    "# 7. Cleaning up strings\n",
    "Replace All Multi-Race Residents with \"Multi Race\""
   ]
  },
  {
   "cell_type": "code",
   "execution_count": null,
   "metadata": {},
   "outputs": [],
   "source": [
    "Demographics['Race'] = Demographics['Race'].str.replace('Black/ African,Other,Multi-Race', 'Multi Race')\n",
    "Demographics['Race'] = Demographics['Race'].str.replace('Asian,Other,Multi-Race', 'Multi Race')\n",
    "Demographics['Race'] = Demographics['Race'].str.replace('White,Other,Multi-Race', 'Multi Race')\n",
    "Demographics['Race'] = Demographics['Race'].str.replace('Asian,Black/ African,Other,Multi-Race', 'Multi Race')"
   ]
  },
  {
   "cell_type": "code",
   "execution_count": null,
   "metadata": {},
   "outputs": [],
   "source": [
    "Demographics['Race'].value_counts()"
   ]
  },
  {
   "cell_type": "code",
   "execution_count": null,
   "metadata": {},
   "outputs": [],
   "source": [
    "# Capitalize Names for Merge\n",
    "Demographics['Member Name'] = Demographics['Member Name'].str.upper()"
   ]
  },
  {
   "cell_type": "markdown",
   "metadata": {},
   "source": [
    "## Replace Strings for Gender"
   ]
  },
  {
   "cell_type": "code",
   "execution_count": null,
   "metadata": {},
   "outputs": [],
   "source": [
    "Demographics['Gender'] = Demographics['Gender'].str.replace('M', 'Male')\n",
    "Demographics['Gender'] = Demographics['Gender'].str.replace('F', 'Female')"
   ]
  },
  {
   "cell_type": "code",
   "execution_count": null,
   "metadata": {},
   "outputs": [],
   "source": [
    "#Locating Duplicate values\n",
    "DupDemographics = Demographics[Demographics.duplicated(subset=['Member Name', 'Apt #','Relation', 'Current Age'],keep=False)]\n",
    "DupDemographics.shape"
   ]
  },
  {
   "cell_type": "markdown",
   "metadata": {},
   "source": [
    "# 8. Left Merge Demographics with Moved In Residents\n",
    "Merge demographics to current database Masterlist"
   ]
  },
  {
   "cell_type": "code",
   "execution_count": null,
   "metadata": {},
   "outputs": [],
   "source": [
    "# Merging Demographics and MoveIn_Residents\n",
    "Masterlist_Demographics = pd.merge(Moved_In_Residents, Demographics, how='left', \n",
    "                                   left_on=['Community','Household Member Name', 'Apt#'], \n",
    "                               right_on=['Community','Member Name', 'Apt #'], \n",
    "                                   suffixes=['_Master', '_Demo'])\n",
    "Masterlist_Demographics.shape"
   ]
  },
  {
   "cell_type": "code",
   "execution_count": null,
   "metadata": {},
   "outputs": [],
   "source": [
    "#Export and remove columns\n",
    "#Masterlist_Demographics.to_csv('Masterlist_Demographics_11.10.2020.csv')"
   ]
  }
 ],
 "metadata": {
  "kernelspec": {
   "display_name": "Python 3",
   "language": "python",
   "name": "python3"
  },
  "language_info": {
   "codemirror_mode": {
    "name": "ipython",
    "version": 3
   },
   "file_extension": ".py",
   "mimetype": "text/x-python",
   "name": "python",
   "nbconvert_exporter": "python",
   "pygments_lexer": "ipython3",
   "version": "3.7.3"
  }
 },
 "nbformat": 4,
 "nbformat_minor": 2
}
